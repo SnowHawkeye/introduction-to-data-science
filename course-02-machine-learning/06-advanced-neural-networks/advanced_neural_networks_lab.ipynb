{
 "cells":[
  {
   "cell_type":"markdown",
   "source":[
    "# Advanced neural networks\n",
    "\n",
    "CREDIT: This practical was inspired by [this post on developing a GAN](https:\/\/machinelearningmastery.com\/how-to-develop-a-generative-adversarial-network-for-an-mnist-handwritten-digits-from-scratch-in-keras\/)."
   ],
   "attachments":{
    
   },
   "metadata":{
    "datalore":{
     "node_id":"CTG7YaT8JcwKMhvYBoYiXI",
     "type":"MD",
     "hide_input_from_viewers":true,
     "hide_output_from_viewers":true
    }
   }
  },
  {
   "cell_type":"markdown",
   "source":[
    "## Imports"
   ],
   "attachments":{
    
   },
   "metadata":{
    "datalore":{
     "node_id":"J7Z8aT4Hm3jQQ40nj12EkK",
     "type":"MD",
     "hide_input_from_viewers":true,
     "hide_output_from_viewers":true
    }
   }
  },
  {
   "cell_type":"code",
   "source":[
    "from numpy import expand_dims\n",
    "from numpy import zeros\n",
    "from numpy import ones\n",
    "from numpy import vstack\n",
    "from numpy.random import randn\n",
    "from numpy.random import randint\n",
    "from keras.datasets.mnist import load_data\n",
    "from keras.optimizers import Adam\n",
    "from keras.models import Sequential\n",
    "from keras.layers import Dense\n",
    "from keras.layers import Reshape\n",
    "from keras.layers import Flatten\n",
    "from keras.layers import Conv2D\n",
    "from keras.layers import Conv2DTranspose\n",
    "from keras.layers import LeakyReLU\n",
    "from keras.layers import Dropout\n",
    "from matplotlib import pyplot"
   ],
   "execution_count":3,
   "outputs":[
    
   ],
   "metadata":{
    "datalore":{
     "node_id":"XJE0u9lbKv1ZEQx9Jk0qCa",
     "type":"CODE",
     "hide_input_from_viewers":true,
     "hide_output_from_viewers":true
    }
   }
  },
  {
   "cell_type":"markdown",
   "source":[
    "## Introduction\n",
    "\n",
    "The goal of this practical is to create a Generative Adversarial Network (GAN) that will generate images based on the [MNIST database](https:\/\/en.wikipedia.org\/wiki\/MNIST_database). We will create the discriminator, the generator, and train both models in order to generate images."
   ],
   "attachments":{
    
   },
   "metadata":{
    "datalore":{
     "node_id":"xJcIpmO0EberzQGOCaIxZ5",
     "type":"MD",
     "hide_input_from_viewers":true,
     "hide_output_from_viewers":true
    }
   }
  },
  {
   "cell_type":"markdown",
   "source":[
    "## Defining the discriminator model\n",
    "\n",
    "In this section, we will define the model that differentiates fake samples from real ones.\n",
    "Here is the architecture we will use for this model:\n",
    "\n",
    "- A 2D convolution layer with input shape `(28,28,1)`, containing 64 filters of size `(3,3)` with a stride of `(2,2)` and zero padding.\n",
    "- A LeakyReLU activation function with `alpha=0.2`\n",
    "- A dropout layer dropping 40% of the input units\n",
    "- Another 2D convolution layer with the same parameters (watch out, the input dimension is different, but you do not need to know it)\n",
    "- Another LeakyReU activation with the same parameters\n",
    "- Another dropout with the same parameters\n",
    "- A Flatten layer\n",
    "- A Dense layer with sigmoid activation. The output should be a single number (probability of the image being real).\n",
    "\n",
    "Complete the cell underneath to implement this architecture."
   ],
   "attachments":{
    
   },
   "metadata":{
    "datalore":{
     "node_id":"uP15PNzMhC9t1aNqgY5q5R",
     "type":"MD",
     "hide_input_from_viewers":true,
     "hide_output_from_viewers":true
    }
   }
  },
  {
   "cell_type":"code",
   "source":[
    "# define the standalone discriminator model\n",
    "def define_discriminator(in_shape=(28,28,1)):\n",
    "\tmodel = Sequential()\n",
    "\n",
    "\n",
    "    # add layers here\n",
    "    \n",
    "\n",
    "\t# compile model\n",
    "\topt = Adam(lr=0.0002, beta_1=0.5)\n",
    "\tmodel.compile(loss='binary_crossentropy', optimizer=opt, metrics=['accuracy'])\n",
    "\treturn model"
   ],
   "execution_count":4,
   "outputs":[
    
   ],
   "metadata":{
    "datalore":{
     "node_id":"QmYiCTW3UEhWtW7UnLujTH",
     "type":"CODE",
     "hide_input_from_viewers":true,
     "hide_output_from_viewers":true
    }
   }
  },
  {
   "cell_type":"code",
   "source":[
    "# define the standalone discriminator model\n",
    "def define_discriminator(in_shape=(28,28,1)):\n",
    "\tmodel = Sequential()\n",
    "\tmodel.add(Conv2D(64, (3,3), strides=(2, 2), padding='same', input_shape=in_shape))\n",
    "\tmodel.add(LeakyReLU(alpha=0.2))\n",
    "\tmodel.add(Dropout(0.4))\n",
    "\tmodel.add(Conv2D(64, (3,3), strides=(2, 2), padding='same'))\n",
    "\tmodel.add(LeakyReLU(alpha=0.2))\n",
    "\tmodel.add(Dropout(0.4))\n",
    "\tmodel.add(Flatten())\n",
    "\tmodel.add(Dense(1, activation='sigmoid'))\n",
    "\t# compile model\n",
    "\topt = Adam(lr=0.0002, beta_1=0.5)\n",
    "\tmodel.compile(loss='binary_crossentropy', optimizer=opt, metrics=['accuracy'])\n",
    "\treturn model"
   ],
   "execution_count":5,
   "outputs":[
    
   ],
   "metadata":{
    "datalore":{
     "node_id":"mska4TaChuCXaFJ4qjx25Y",
     "type":"CODE",
     "hide_input_from_viewers":true,
     "hide_output_from_viewers":true
    }
   }
  },
  {
   "cell_type":"markdown",
   "source":[
    "## Defining the generator model\n",
    "\n",
    "The generator model will try to create images that will \"fool\" the discriminator. Its input is a vector in an arbitrarily defined **latent space** of Gaussian-distributed values, for example in 100 dimensions. This space has no meaning, it is like \"raw material\" for the generator to build an image from. When the model is trained, the latent space represents a compressed representation of the output space - the generator is the only one who knows how to turn it into MNIST-like images.\n",
    "\n",
    "The model is defined by the function in the cell underneath. You will note that we do not compile it yet: that is because the loss of the generator model depends on the discriminator, so they need to be connected first. We will be doing this in the next section.\n",
    "\n",
    "**Question**: Describe this architecture. Explain in your own words what it does, and understand the input \/ output shapes."
   ],
   "attachments":{
    
   },
   "metadata":{
    "datalore":{
     "node_id":"9Sb9aLFtBiFHeAISHUp5g2",
     "type":"MD",
     "hide_input_from_viewers":true,
     "hide_output_from_viewers":true
    }
   }
  },
  {
   "cell_type":"code",
   "source":[
    "# define the standalone generator model\n",
    "def define_generator(latent_dim):\n",
    "\tmodel = Sequential()\n",
    "\t# foundation for 7x7 image\n",
    "\tn_nodes = 128 * 7 * 7\n",
    "\tmodel.add(Dense(n_nodes, input_dim=latent_dim))\n",
    "\tmodel.add(LeakyReLU(alpha=0.2))\n",
    "\tmodel.add(Reshape((7, 7, 128)))\n",
    "\t# upsample to 14x14\n",
    "\tmodel.add(Conv2DTranspose(128, (4,4), strides=(2,2), padding='same'))\n",
    "\tmodel.add(LeakyReLU(alpha=0.2))\n",
    "\t# upsample to 28x28\n",
    "\tmodel.add(Conv2DTranspose(128, (4,4), strides=(2,2), padding='same'))\n",
    "\tmodel.add(LeakyReLU(alpha=0.2))\n",
    "\tmodel.add(Conv2D(1, (7,7), activation='sigmoid', padding='same'))\n",
    "\treturn model"
   ],
   "execution_count":6,
   "outputs":[
    
   ],
   "metadata":{
    "datalore":{
     "node_id":"UZrGHBhGC8FolFdPdjFeIi",
     "type":"CODE",
     "hide_input_from_viewers":true,
     "hide_output_from_viewers":true
    }
   }
  },
  {
   "cell_type":"markdown",
   "source":[
    "*[Your comments here]*"
   ],
   "attachments":{
    
   },
   "metadata":{
    "datalore":{
     "node_id":"1Szat2OF6QPEfBMKS8aj5O",
     "type":"MD",
     "hide_input_from_viewers":true,
     "hide_output_from_viewers":true
    }
   }
  },
  {
   "cell_type":"markdown",
   "source":[
    "## Defining the combined generator and discriminator model"
   ],
   "attachments":{
    
   },
   "metadata":{
    "datalore":{
     "node_id":"Wgu6DD9gL8kDHu6jV9xDhe",
     "type":"MD",
     "hide_input_from_viewers":true,
     "hide_output_from_viewers":true
    }
   }
  },
  {
   "cell_type":"code",
   "source":[
    "# define the combined generator and discriminator model, for updating the generator\n",
    "def define_gan(g_model, d_model):\n",
    "\td_model.trainable = False # make weights in the discriminator not trainable, because we want the backpropagation to train the generator model\n",
    "\tmodel = Sequential() # connect them\n",
    "\tmodel.add(g_model) # add the generator\n",
    "\tmodel.add(d_model) # add the discriminator\n",
    "\topt = Adam(lr=0.0002, beta_1=0.5) # compile model\n",
    "\tmodel.compile(loss='binary_crossentropy', optimizer=opt)\n",
    "\treturn model"
   ],
   "execution_count":8,
   "outputs":[
    
   ],
   "metadata":{
    "datalore":{
     "node_id":"bpMXO5yV8ldeppInI7DxOX",
     "type":"CODE",
     "hide_input_from_viewers":true,
     "hide_output_from_viewers":true
    }
   }
  },
  {
   "cell_type":"markdown",
   "source":[
    "## Training the network\n",
    "\n",
    "First, we need to create functions that will generate data. The \"real\" data will be the MNIST images, while the \"fake\" data will be the images created by the generator (which will eventually be close to MNIST images). Complete the following cells to create the required functions."
   ],
   "attachments":{
    
   },
   "metadata":{
    "datalore":{
     "node_id":"okVYsOQRc8mrVflu6mYP0U",
     "type":"MD",
     "hide_input_from_viewers":true,
     "hide_output_from_viewers":true
    }
   }
  },
  {
   "cell_type":"code",
   "source":[
    "# load and prepare mnist training images\n",
    "def load_real_samples():\n",
    "\t(trainX, _), (_, _) = load_data() # load mnist dataset\n",
    "\tX = expand_dims(trainX, axis=-1) # expand to 3d, e.g. add channels dimension\n",
    "\tX = X.astype('float32') # convert from unsigned ints to floats\n",
    "\tX = ... # scale from [0,255] to [0,1]\n",
    "\treturn X"
   ],
   "execution_count":null,
   "outputs":[
    
   ],
   "metadata":{
    "datalore":{
     "node_id":"kVjuZxnJ4hz06jj8XHe7aV",
     "type":"CODE",
     "hide_input_from_viewers":true,
     "hide_output_from_viewers":true
    }
   }
  },
  {
   "cell_type":"code",
   "source":[
    "# select real samples\n",
    "def generate_real_samples(dataset, n_samples):\n",
    "\tX = ... # retrieve n_samples images at random\n",
    "\ty = ... # label all the samples as real (1)\n",
    "\treturn X, y"
   ],
   "execution_count":null,
   "outputs":[
    
   ],
   "metadata":{
    "datalore":{
     "node_id":"qm4BvXMrDmeZyGLwMHDSKy",
     "type":"CODE",
     "hide_input_from_viewers":true,
     "hide_output_from_viewers":true
    }
   }
  },
  {
   "cell_type":"code",
   "source":[
    "# generate points in latent space as input for the generator\n",
    "def generate_latent_points(latent_dim, n_samples):\n",
    "\tx_input = ... # generate n_samples points of size latent_dim\n",
    "\treturn x_input"
   ],
   "execution_count":null,
   "outputs":[
    
   ],
   "metadata":{
    "datalore":{
     "node_id":"Che5zMh28ywfVNKFTh3MKv",
     "type":"CODE",
     "hide_input_from_viewers":true,
     "hide_output_from_viewers":true
    }
   }
  },
  {
   "cell_type":"code",
   "source":[
    "# use the generator to generate n fake examples, with class labels\n",
    "def generate_fake_samples(g_model, latent_dim, n_samples):\n",
    "\tx_input = ... # generate points in latent space\n",
    "\tX = ... # predict outputs\n",
    "\ty = ... # label all the samples as fake (0)\n",
    "\treturn X, y"
   ],
   "execution_count":null,
   "outputs":[
    
   ],
   "metadata":{
    "datalore":{
     "node_id":"H1oTLyqiAiEUDWFJsAaI31",
     "type":"CODE",
     "hide_input_from_viewers":true,
     "hide_output_from_viewers":true
    }
   }
  },
  {
   "cell_type":"code",
   "source":[
    "# create and save a plot of generated images (reversed grayscale)\n",
    "def save_plot(examples, epoch, n=10):\n",
    "\t# plot images\n",
    "\tfor i in range(n * n):\n",
    "\t\tpyplot.subplot(n, n, 1 + i) # define subplot\n",
    "\t\tpyplot.axis('off') # turn off axis\n",
    "\t\tpyplot.imshow(examples[i, :, :, 0], cmap='gray_r') # plot raw pixel data\n",
    "\t# save plot to file\n",
    "\tfilename = 'generated_plot_e%03d.png' % (epoch+1)\n",
    "\tpyplot.savefig(filename)\n",
    "\tpyplot.close()"
   ],
   "execution_count":null,
   "outputs":[
    
   ],
   "metadata":{
    "datalore":{
     "node_id":"RBsXs3GwqP9OpYUOtkWTDF",
     "type":"CODE",
     "hide_input_from_viewers":true,
     "hide_output_from_viewers":true
    }
   }
  },
  {
   "cell_type":"markdown",
   "source":[
    "## Train the model\n",
    "\n",
    "In this section, we create the function that will let us train the model.\n",
    "\n",
    "Using the functions created previously, complete the following cells."
   ],
   "attachments":{
    
   },
   "metadata":{
    "datalore":{
     "node_id":"DGA5KPQ7pGrSM99T0ogm0v",
     "type":"MD",
     "hide_input_from_viewers":true,
     "hide_output_from_viewers":true
    }
   }
  },
  {
   "cell_type":"code",
   "source":[
    "# evaluate the discriminator, plot generated images, save generator model\n",
    "def summarize_performance(epoch, g_model, d_model, dataset, latent_dim, n_samples=100):\n",
    "\tX_real, y_real = ... # prepare real samples\n",
    "\t_, acc_real = ... # evaluate discriminator on real examples\n",
    "\t\n",
    "\tx_fake, y_fake = ... # prepare fake examples\n",
    "\t_, acc_fake = ... # evaluate discriminator on fake examples\n",
    "\t\n",
    "\tprint('>Accuracy real: %.0f%%, fake: %.0f%%' % (acc_real*100, acc_fake*100)) # summarize discriminator performance\n",
    "\t\n",
    "\tsave_plot(x_fake, epoch) # save plot\n",
    "\tfilename = 'generator_model_%03d.h5' % (epoch + 1) # save the generator model tile file\n",
    "\tg_model.save(filename)"
   ],
   "execution_count":2,
   "outputs":[
    
   ],
   "metadata":{
    "datalore":{
     "node_id":"Ba3xgMStHdRvNtDTGfBSeQ",
     "type":"CODE",
     "hide_input_from_viewers":true,
     "hide_output_from_viewers":true
    }
   }
  },
  {
   "cell_type":"markdown",
   "source":[
    "### Important notice on the training\n",
    "\n",
    "We expect the discriminator model to return a low probability of the \"fake\" (generated) images to be real. Therefore, if we want the loss to be high when the generator did not manage to \"fool\" the discriminator, **we want the label of fake images to be 1**."
   ],
   "attachments":{
    
   },
   "metadata":{
    "datalore":{
     "node_id":"TuWGyOKyo0utxWm2b0F6g5",
     "type":"MD",
     "hide_input_from_viewers":true,
     "hide_output_from_viewers":true
    }
   }
  },
  {
   "cell_type":"code",
   "source":[
    "# train the generator and discriminator\n",
    "def train(g_model, d_model, gan_model, dataset, latent_dim, n_epochs=100, n_batch=256):\n",
    "\tbat_per_epo = int(dataset.shape[0] \/ n_batch)\n",
    "\thalf_batch = int(n_batch \/ 2)\n",
    "\t# manually enumerate epochs\n",
    "\tfor i in range(n_epochs):\n",
    "\t\t# enumerate batches over the training set\n",
    "\t\tfor j in range(bat_per_epo):\n",
    "\t\t\tX_real, y_real = ... # get randomly selected 'real' samples\n",
    "\t\t\tX_fake, y_fake = ... # generate 'fake' examples\n",
    "\t\t\tX, y = ... # create training set for the discriminator by stacking real and fake examples\n",
    "\t\t\td_loss, _ = d_model.train_on_batch(X, y) # update discriminator model weights\n",
    "\t\t\t\n",
    "\t\t\tX_gan = ... # prepare points in latent space as input for the generator\n",
    "\t\t\ty_gan = ... # create inverted labels for the fake samples\n",
    "\t\t\tg_loss = gan_model.train_on_batch(X_gan, y_gan) # update the generator via the discriminator's error\n",
    "\t\t\t\n",
    "            # summarize loss on this batch\n",
    "\t\t\tprint('>%d, %d\/%d, d=%.3f, g=%.3f' % (i+1, j+1, bat_per_epo, d_loss, g_loss))\n",
    "\t\t# evaluate the model performance, sometimes\n",
    "\t\tif (i+1) % 10 == 0:\n",
    "\t\t\tsummarize_performance(i, g_model, d_model, dataset, latent_dim)"
   ],
   "execution_count":null,
   "outputs":[
    
   ],
   "metadata":{
    "datalore":{
     "node_id":"BDocbJAoy9yLFTPYfGX7Mg",
     "type":"CODE",
     "hide_input_from_viewers":true,
     "hide_output_from_viewers":true
    }
   }
  },
  {
   "cell_type":"markdown",
   "source":[
    "## Running the algorithm and displaying the result"
   ],
   "attachments":{
    
   },
   "metadata":{
    "datalore":{
     "node_id":"CpymSuXIHvwEfhVQnfsD1o",
     "type":"MD",
     "hide_input_from_viewers":true,
     "hide_output_from_viewers":true
    }
   }
  },
  {
   "cell_type":"code",
   "source":[
    "# size of the latent space\n",
    "latent_dim = ...\n",
    "# create the discriminator\n",
    "d_model = ...\n",
    "# create the generator\n",
    "g_model = ...\n",
    "# create the gan\n",
    "gan_model = ...\n",
    "# load image data\n",
    "dataset = load_real_samples()\n",
    "# train model\n",
    "..."
   ],
   "execution_count":3,
   "outputs":[
    
   ],
   "metadata":{
    "datalore":{
     "node_id":"ViMpn8Vcr18s3siU8LEflZ",
     "type":"CODE",
     "hide_input_from_viewers":true,
     "hide_output_from_viewers":true
    }
   }
  },
  {
   "cell_type":"code",
   "source":[
    "# example of loading the generator model and generating images\n",
    "from keras.models import load_model\n",
    "\n",
    "# load model\n",
    "model = load_model('generator_model_100.h5')\n",
    "# generate images\n",
    "latent_points = generate_latent_points(100, 25)\n",
    "# generate images\n",
    "X = model.predict(latent_points)\n",
    "# plot the result\n",
    "save_plot(X, 5)"
   ],
   "execution_count":null,
   "outputs":[
    
   ],
   "metadata":{
    "datalore":{
     "node_id":"LZPqskFb28ygjT5SjxnSir",
     "type":"CODE",
     "hide_input_from_viewers":true,
     "hide_output_from_viewers":true
    }
   }
  }
 ],
 "metadata":{
  "kernelspec":{
   "display_name":"Python",
   "language":"python",
   "name":"python"
  },
  "datalore":{
   "computation_mode":"JUPYTER",
   "package_manager":"pip",
   "base_environment":"default",
   "packages":[
    
   ],
   "report_row_ids":[
    
   ],
   "version":3
  }
 },
 "nbformat":4,
 "nbformat_minor":4
}