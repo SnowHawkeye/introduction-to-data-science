{
 "cells":[
  {
   "cell_type":"markdown",
   "source":[
    "# Decision Trees"
   ],
   "attachments":{
    
   },
   "metadata":{
    "datalore":{
     "node_id":"GVo10nb36uDS9vJ9EhxcZ4",
     "type":"MD",
     "hide_input_from_viewers":false,
     "hide_output_from_viewers":false,
     "report_properties":{
      "rowId":"JoHk2C319pxhiBaGkNQMDg"
     }
    }
   }
  },
  {
   "cell_type":"markdown",
   "source":[
    "## Setup\n",
    "### Imports"
   ],
   "attachments":{
    
   },
   "metadata":{
    "datalore":{
     "node_id":"XRS0rFPXUlRgtEHlNxcpID",
     "type":"MD",
     "hide_input_from_viewers":false,
     "hide_output_from_viewers":false,
     "report_properties":{
      "rowId":"UcaZxTvte2AQBKxsfYBVTL"
     }
    }
   }
  },
  {
   "cell_type":"code",
   "source":[
    "import pandas as pd                                     # for dataset manipulation (DataFrames)\n",
    "import numpy as np                                      # allows some mathematical operations\n",
    "import matplotlib.pyplot as plt                         # library used to display graphs\n",
    "import seaborn as sns                                   # more convenient visualisation library for dataframes\n",
    "import time                                             # for execution time measurement"
   ],
   "execution_count":2,
   "outputs":[
    
   ],
   "metadata":{
    "datalore":{
     "node_id":"TbLv57fkMm1TbExf2jVxHh",
     "type":"CODE",
     "hide_input_from_viewers":false,
     "hide_output_from_viewers":false,
     "report_properties":{
      "rowId":"PvEHx5cM4msrC9cCg1cW9N"
     }
    }
   }
  },
  {
   "cell_type":"markdown",
   "source":[
    "### Import `graphviz`\n",
    "In order to visualize decision trees, you can use the `graphviz` library. In order to install it (in Datalore), you need to run the following commands in the terminal (Tools > Terminal):\n",
    "```\n",
    "sudo apt update\n",
    "sudo apt-get install graphviz\n",
    "```\n",
    "Then, you will need to import the library in Python. Remember to add it to your environment!\n",
    "\n",
    "If you are working locally, you can refer to [the graphviz website](https:\/\/graphviz.org\/download\/)."
   ],
   "attachments":{
    
   },
   "metadata":{
    "datalore":{
     "node_id":"MmaIMncXuA2o6QdLMOSao9",
     "type":"MD",
     "hide_input_from_viewers":true,
     "hide_output_from_viewers":true
    }
   }
  },
  {
   "cell_type":"code",
   "source":[
    "import graphviz\n",
    "import os\n",
    "os.environ[\"PATH\"] += os.pathsep + 'C:\\\\Program Files\\\\Graphviz\\\\bin\\\\'"
   ],
   "execution_count":3,
   "outputs":[
    
   ],
   "metadata":{
    "datalore":{
     "node_id":"J445jbw7mGlGuskkr40ye1",
     "type":"CODE",
     "hide_input_from_viewers":true,
     "hide_output_from_viewers":true
    }
   }
  },
  {
   "cell_type":"markdown",
   "source":[
    "## Decision trees\n",
    "\n",
    "### Importing and observing the data\n",
    "Using what you've learned in the previous practicals, answer the following questions:\n",
    "1. Import the iris dataset directly from `scikit-learn`.\n",
    "2. Convert it to a `pandas` Dataframe. Remember to add the `target` column. ***Note**: Keep the `target` column as digits, do not replace the digits with the names. This is because machine learning algorithms prefer working with numerical values.*\n",
    "3. Using the relevant graphs and functions, realize an analysis of the dataset and its features."
   ],
   "attachments":{
    
   },
   "metadata":{
    "datalore":{
     "node_id":"lqpL20bjkfGlehb5Klwwbt",
     "type":"MD",
     "hide_input_from_viewers":true,
     "hide_output_from_viewers":true
    }
   }
  },
  {
   "cell_type":"markdown",
   "source":[
    "*[Your comments here]*"
   ],
   "attachments":{
    
   },
   "metadata":{
    "datalore":{
     "node_id":"HoIJcHG0Vx5XRvf3Hqzfcc",
     "type":"MD",
     "hide_input_from_viewers":true,
     "hide_output_from_viewers":true
    }
   }
  },
  {
   "cell_type":"code",
   "source":[
    "# Your code here"
   ],
   "execution_count":4,
   "outputs":[
    
   ],
   "metadata":{
    "datalore":{
     "node_id":"xboa1kXChth2v07ShH81Br",
     "type":"CODE",
     "hide_input_from_viewers":true,
     "hide_output_from_viewers":true
    }
   }
  },
  {
   "cell_type":"markdown",
   "source":[
    "### Preparing the data\n",
    "\n",
    "1. Split the data into a training and a test set with an 80-20 proportion.\n",
    "2. Display the number of examples in each set."
   ],
   "attachments":{
    
   },
   "metadata":{
    "datalore":{
     "node_id":"E9U0UeRZi0ZLZs6YQJCr4W",
     "type":"MD",
     "hide_input_from_viewers":true,
     "hide_output_from_viewers":true
    }
   }
  },
  {
   "cell_type":"markdown",
   "source":[
    "*[Your comments here]*"
   ],
   "attachments":{
    
   },
   "metadata":{
    "datalore":{
     "node_id":"n0ZyVRRA4x63U5XbDZ9JUe",
     "type":"MD",
     "hide_input_from_viewers":true,
     "hide_output_from_viewers":true
    }
   }
  },
  {
   "cell_type":"code",
   "source":[
    "# Your code here"
   ],
   "execution_count":5,
   "outputs":[
    
   ],
   "metadata":{
    "datalore":{
     "node_id":"0ecilkez0XOiCXS4alufLd",
     "type":"CODE",
     "hide_input_from_viewers":true,
     "hide_output_from_viewers":true
    }
   }
  },
  {
   "cell_type":"markdown",
   "source":[
    "### Training a decision tree\n",
    "\n",
    "We will now train a decision tree on this dataset. In the following cell, import, instantiate and train a decision tree classifier."
   ],
   "attachments":{
    
   },
   "metadata":{
    "datalore":{
     "node_id":"Y6vgs49d73FLnRHCksqNaB",
     "type":"MD",
     "hide_input_from_viewers":true,
     "hide_output_from_viewers":true
    }
   }
  },
  {
   "cell_type":"code",
   "source":[
    "# Import the decision tree classifier from scikit-learn\n",
    "\n",
    "\n",
    "# Instantiate the classifier\n",
    "\n",
    "\n",
    "# Train the classifier"
   ],
   "execution_count":6,
   "outputs":[
    
   ],
   "metadata":{
    "datalore":{
     "node_id":"2iG4R6eraGCh2gI11IWCqL",
     "type":"CODE",
     "hide_input_from_viewers":true,
     "hide_output_from_viewers":true
    }
   }
  },
  {
   "cell_type":"markdown",
   "source":[
    "### Visualizing a decision tree\n",
    "\n",
    "The `graphviz` library that we installed at the beginning of this practical can be used to visualize decision trees.\n",
    "1. Complete the following code cell to display the decision tree you created above.\n",
    "2. Explain the content of the blocks in the resulting graph."
   ],
   "attachments":{
    
   },
   "metadata":{
    "datalore":{
     "node_id":"KZ0vG9yuVf5PoW7p1VxAAU",
     "type":"MD",
     "hide_input_from_viewers":true,
     "hide_output_from_viewers":true
    }
   }
  },
  {
   "cell_type":"code",
   "source":[
    "from sklearn.tree import export_graphviz\n",
    "\n",
    "graph_data = export_graphviz(\n",
    "    decision_tree=..., # the decision tree you trained \n",
    "    feature_names=..., # the names of the features  \n",
    "    class_names=...,   # the names of the classes\n",
    "    \n",
    "    # the following parameters format the graph\n",
    "    filled=True, \n",
    "    rounded=True,  \n",
    "    special_characters=True\n",
    ")\n",
    "\n",
    "graph = graphviz.Source(graph_data)  \n",
    "graph "
   ],
   "execution_count":10,
   "outputs":[
    
   ],
   "metadata":{
    "datalore":{
     "node_id":"RqTfkqs7WmhAg1xsQyKDT2",
     "type":"CODE",
     "hide_input_from_viewers":true,
     "hide_output_from_viewers":true
    }
   }
  },
  {
   "cell_type":"markdown",
   "source":[
    "### Measuring the performance of the classifier\n",
    "\n",
    "In the cells underneath, answer the following questions:\n",
    "1. Measure and analyze the performance of the decision tree you have built.\n",
    "2. Create and train two new decision trees: one using only sepal features, and one using only petal features.\n",
    "3. Measure the performance of these new trees. Compare and comment.\n",
    "4. [**Bonus**] Using the `criterion` parameter, build new decision trees using a different splitting criterion. How does it impact the performance? "
   ],
   "attachments":{
    
   },
   "metadata":{
    "datalore":{
     "node_id":"bXQEY5ZJnB6nyJZL8P4pXr",
     "type":"MD",
     "hide_input_from_viewers":true,
     "hide_output_from_viewers":true
    }
   }
  },
  {
   "cell_type":"markdown",
   "source":[
    "*[Your comments here]*"
   ],
   "attachments":{
    
   },
   "metadata":{
    "datalore":{
     "node_id":"Op8k2pwAi3gXk7j4qdsQts",
     "type":"MD",
     "hide_input_from_viewers":true,
     "hide_output_from_viewers":true
    }
   }
  },
  {
   "cell_type":"code",
   "source":[
    "# Your code here"
   ],
   "execution_count":11,
   "outputs":[
    
   ],
   "metadata":{
    "datalore":{
     "node_id":"tWWVoWpQrnMaTioD5ObX2Y",
     "type":"CODE",
     "hide_input_from_viewers":true,
     "hide_output_from_viewers":true
    }
   }
  },
  {
   "cell_type":"markdown",
   "source":[
    "## Bonus questions"
   ],
   "attachments":{
    
   },
   "metadata":{
    "datalore":{
     "node_id":"NqkZCjuLSpgjcsWVUkn79C",
     "type":"MD",
     "hide_input_from_viewers":true,
     "hide_output_from_viewers":true
    }
   }
  },
  {
   "cell_type":"markdown",
   "source":[
    "1. Train a random forest classifier on this same task. Try to optimize its parameters. Compare and comment on the results, as well as the pros and cons of using random forests over decision trees.\n",
    "2. Refer to the documentation to find out how to get the feature importance values for each feature. How are these values computed? How do you interpret them in this case?\n",
    "3. For practice, you can try to follow the same procedure using another of [`scikit-learn`'s toy datasets](https:\/\/scikit-learn.org\/stable\/datasets\/toy_dataset.html)."
   ],
   "attachments":{
    
   },
   "metadata":{
    "datalore":{
     "node_id":"u5EaBaWLbVRtmqCUkl03oC",
     "type":"MD",
     "hide_input_from_viewers":true,
     "hide_output_from_viewers":true
    }
   }
  },
  {
   "cell_type":"markdown",
   "source":[
    "*[Your comments here]*"
   ],
   "attachments":{
    
   },
   "metadata":{
    "datalore":{
     "node_id":"BNZ1pwaz6nqF7kmwR5piR8",
     "type":"MD",
     "hide_input_from_viewers":true,
     "hide_output_from_viewers":true
    }
   }
  },
  {
   "cell_type":"code",
   "source":[
    "# Your code here"
   ],
   "execution_count":null,
   "outputs":[
    
   ],
   "metadata":{
    "datalore":{
     "node_id":"8Uw6xPJ7QQ7YTGhCCWnSXT",
     "type":"CODE",
     "hide_input_from_viewers":true,
     "hide_output_from_viewers":true
    }
   }
  }
 ],
 "metadata":{
  "kernelspec":{
   "display_name":"Python",
   "language":"python",
   "name":"python"
  },
  "datalore":{
   "computation_mode":"JUPYTER",
   "package_manager":"pip",
   "base_environment":"default",
   "packages":[
    {
     "name":"graphviz",
     "version":"0.20.1",
     "source":"PIP"
    }
   ],
   "report_row_ids":[
    "JoHk2C319pxhiBaGkNQMDg",
    "UcaZxTvte2AQBKxsfYBVTL",
    "PvEHx5cM4msrC9cCg1cW9N",
    "88aGZKjbW2yebOUDzoYtf1",
    "fTZ8YWjegGDKILAMu1D44H",
    "HWQmszIy97KJ1RhraFUAj8",
    "JuCjblwngnvBdfqezYhilA",
    "aBltzOrMTRxDSy0ZNPzYHb",
    "WQafdfYaFmr4q44RPvLyJb",
    "HJbPfYQCr5TUK3CPEuiAKs",
    "b9jr8VKK89SanxajR65i20",
    "Xa86OEruzAcfgy1yLvogKb",
    "Ckq38I69B3KQnn3Jbyi3re",
    "EwsEGtNBOPdgD6K6wmAiiD",
    "0p61ATR4JOGt74Cgrd10Nj",
    "P9l3UkPXvxi6tPvYFZV6Lj",
    "T4GPV8l4bUkW9fiHtP1PqI",
    "lVKEpvgJSu6x8mEotFcbO9",
    "1e0m1jgvZl9f5gxqAVVPzV",
    "yB9vNEzq8slDwpUBl5UWhm",
    "RCLbNOz5te9A83IbKRJsTR",
    "hEQmNI6MOoBEBQYnExGp2K",
    "m5bakJ18PgHb9SMNwRKkiu",
    "dq50A9krJH464ellM28HIb"
   ],
   "version":3
  }
 },
 "nbformat":4,
 "nbformat_minor":4
}