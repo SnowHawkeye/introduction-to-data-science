{
 "cells":[
  {
   "cell_type":"markdown",
   "source":[
    "# Clustering\n",
    "\n",
    "CREDIT: This notebook was inspired by [this Kaggle notebook](https:\/\/www.kaggle.com\/code\/zeyneloglum\/introduction-to-unsupervised-learning-clustering)."
   ],
   "attachments":{
    
   },
   "metadata":{
    "datalore":{
     "node_id":"GVo10nb36uDS9vJ9EhxcZ4",
     "type":"MD",
     "hide_input_from_viewers":false,
     "hide_output_from_viewers":false,
     "report_properties":{
      "rowId":"JoHk2C319pxhiBaGkNQMDg"
     }
    }
   }
  },
  {
   "cell_type":"markdown",
   "source":[
    "## Setup\n",
    "### Imports"
   ],
   "attachments":{
    
   },
   "metadata":{
    "datalore":{
     "node_id":"XRS0rFPXUlRgtEHlNxcpID",
     "type":"MD",
     "hide_input_from_viewers":false,
     "hide_output_from_viewers":false,
     "report_properties":{
      "rowId":"UcaZxTvte2AQBKxsfYBVTL"
     }
    }
   }
  },
  {
   "cell_type":"code",
   "source":[
    "import pandas as pd                                     # for dataset manipulation (DataFrames)\n",
    "import numpy as np                                      # allows some mathematical operations\n",
    "import matplotlib.pyplot as plt                         # library used to display graphs\n",
    "import seaborn as sns                                   # more convenient visualisation library for dataframes\n",
    "import time                                             # for execution time measurement"
   ],
   "execution_count":1,
   "outputs":[
    
   ],
   "metadata":{
    "datalore":{
     "node_id":"TbLv57fkMm1TbExf2jVxHh",
     "type":"CODE",
     "hide_input_from_viewers":false,
     "hide_output_from_viewers":false,
     "report_properties":{
      "rowId":"PvEHx5cM4msrC9cCg1cW9N"
     }
    }
   }
  },
  {
   "cell_type":"markdown",
   "source":[
    "## K-means clustering\n",
    "\n",
    "### Preparing the dataset\n",
    "\n",
    "In order to practice using K-means clustering, we will use the `make_blobs()` method from `scikit-learn`.\n",
    "Using [the documentation](https:\/\/scikit-learn.org\/stable\/modules\/generated\/sklearn.datasets.make_blobs.html), answer the following questions:\n",
    "1. Explain in your own words what the purpose of this function is and what it returns.\n",
    "2. Explain in your own words what its parameters are.\n",
    "3. Create a dataset containing 200 samples grouped around 3 clusters with a standard deviation of 2.75.\n",
    "5. Display this dataset. Each cluster should have a different color.\n",
    "6. The K-means algorithm is sensitive to scaling. In order to use it, it is recommended to normalize data. Normalize the data you have generated and display it again."
   ],
   "attachments":{
    
   },
   "metadata":{
    "datalore":{
     "node_id":"y77pLIZRcHGTGkN0NCWWOA",
     "type":"MD",
     "hide_input_from_viewers":true,
     "hide_output_from_viewers":true
    }
   }
  },
  {
   "cell_type":"markdown",
   "source":[
    "*[Your comments here]*"
   ],
   "attachments":{
    
   },
   "metadata":{
    "datalore":{
     "node_id":"HoIJcHG0Vx5XRvf3Hqzfcc",
     "type":"MD",
     "hide_input_from_viewers":true,
     "hide_output_from_viewers":true
    }
   }
  },
  {
   "cell_type":"code",
   "source":[
    "# Your code here"
   ],
   "execution_count":2,
   "outputs":[
    
   ],
   "metadata":{
    "datalore":{
     "node_id":"xboa1kXChth2v07ShH81Br",
     "type":"CODE",
     "hide_input_from_viewers":true,
     "hide_output_from_viewers":true
    }
   }
  },
  {
   "cell_type":"markdown",
   "source":[
    "### Using K-means\n",
    "\n",
    "Refer to [the documentation](https:\/\/scikit-learn.org\/stable\/modules\/generated\/sklearn.cluster.KMeans.html) of `sk-learn`'s implementation of K-means and answer the following questions: \n",
    "1. Explain in your own words the purpose of the following parameters: `n_clusters`, `max_iter`, `n_init`.\n",
    "2. Use the K-means algorithm with `K=3` to predict the clusters.\n",
    "3. Display your data again, this time using the labels predicted by the K-means algorithm. Observe and interpret."
   ],
   "attachments":{
    
   },
   "metadata":{
    "datalore":{
     "node_id":"LQ3FaXZe8CnBlL0Ew1dOVB",
     "type":"MD",
     "hide_input_from_viewers":true,
     "hide_output_from_viewers":true
    }
   }
  },
  {
   "cell_type":"markdown",
   "source":[
    "*[Your comments here]*"
   ],
   "attachments":{
    
   },
   "metadata":{
    "datalore":{
     "node_id":"xgMowzWKPLCkkupjv9CN98",
     "type":"MD",
     "hide_input_from_viewers":true,
     "hide_output_from_viewers":true
    }
   }
  },
  {
   "cell_type":"code",
   "source":[
    "# Your code here"
   ],
   "execution_count":null,
   "outputs":[
    
   ],
   "metadata":{
    "datalore":{
     "node_id":"KfVqBkY9NDIXUnTWpGlJZ8",
     "type":"CODE",
     "hide_input_from_viewers":true,
     "hide_output_from_viewers":true
    }
   }
  },
  {
   "cell_type":"markdown",
   "source":[
    "### Inertia and elbow method\n",
    "\n",
    "1. What is inertia? How can you get that information in your code? \n",
    "2. What is the inertia of the clusters you obtained with `K=3`?\n",
    "3. Run the algorithm for K varying between 2 and 10 and record the inertia value.\n",
    "4. Explain in your own words what the elbow method is.\n",
    "5. Using the elbow method, find the optimal value for K. Comment on your findings."
   ],
   "attachments":{
    
   },
   "metadata":{
    "datalore":{
     "node_id":"fhInDpsxYKP0Xjg7rnotOq",
     "type":"MD",
     "hide_input_from_viewers":true,
     "hide_output_from_viewers":true
    }
   }
  },
  {
   "cell_type":"markdown",
   "source":[
    "*[Your comments here]*"
   ],
   "attachments":{
    
   },
   "metadata":{
    "datalore":{
     "node_id":"MlQdBB0rFQbonPnlfv29Nk",
     "type":"MD",
     "hide_input_from_viewers":true,
     "hide_output_from_viewers":true
    }
   }
  },
  {
   "cell_type":"code",
   "source":[
    "# Your code here"
   ],
   "execution_count":3,
   "outputs":[
    
   ],
   "metadata":{
    "datalore":{
     "node_id":"QGQqowIYf9XemlfJCPvgdF",
     "type":"CODE",
     "hide_input_from_viewers":true,
     "hide_output_from_viewers":true
    }
   }
  },
  {
   "cell_type":"markdown",
   "source":[
    "## Bonus questions\n",
    "Refer to [this kaggle notebook](https:\/\/www.kaggle.com\/code\/zeyneloglum\/introduction-to-unsupervised-learning-clustering?scriptVersionId=107315888&cellId=38) to learn about hierarchical clustering and its usage. You can then practice by creating another set of synthetic data. "
   ],
   "attachments":{
    
   },
   "metadata":{
    "datalore":{
     "node_id":"NqkZCjuLSpgjcsWVUkn79C",
     "type":"MD",
     "hide_input_from_viewers":true,
     "hide_output_from_viewers":true
    }
   }
  },
  {
   "cell_type":"markdown",
   "source":[
    "*[Your comments here]*"
   ],
   "attachments":{
    
   },
   "metadata":{
    "datalore":{
     "node_id":"u5EaBaWLbVRtmqCUkl03oC",
     "type":"MD",
     "hide_input_from_viewers":true,
     "hide_output_from_viewers":true
    }
   }
  },
  {
   "cell_type":"code",
   "source":[
    "# Your code here"
   ],
   "execution_count":4,
   "outputs":[
    
   ],
   "metadata":{
    "datalore":{
     "node_id":"8Uw6xPJ7QQ7YTGhCCWnSXT",
     "type":"CODE",
     "hide_input_from_viewers":true,
     "hide_output_from_viewers":true
    }
   }
  }
 ],
 "metadata":{
  "kernelspec":{
   "display_name":"Python",
   "language":"python",
   "name":"python"
  },
  "datalore":{
   "computation_mode":"JUPYTER",
   "package_manager":"pip",
   "base_environment":"default",
   "packages":[
    
   ],
   "report_row_ids":[
    "JoHk2C319pxhiBaGkNQMDg",
    "UcaZxTvte2AQBKxsfYBVTL",
    "PvEHx5cM4msrC9cCg1cW9N",
    "88aGZKjbW2yebOUDzoYtf1",
    "fTZ8YWjegGDKILAMu1D44H",
    "HWQmszIy97KJ1RhraFUAj8",
    "JuCjblwngnvBdfqezYhilA",
    "aBltzOrMTRxDSy0ZNPzYHb",
    "WQafdfYaFmr4q44RPvLyJb",
    "HJbPfYQCr5TUK3CPEuiAKs",
    "b9jr8VKK89SanxajR65i20",
    "Xa86OEruzAcfgy1yLvogKb",
    "Ckq38I69B3KQnn3Jbyi3re",
    "EwsEGtNBOPdgD6K6wmAiiD",
    "0p61ATR4JOGt74Cgrd10Nj",
    "P9l3UkPXvxi6tPvYFZV6Lj",
    "T4GPV8l4bUkW9fiHtP1PqI",
    "lVKEpvgJSu6x8mEotFcbO9",
    "1e0m1jgvZl9f5gxqAVVPzV",
    "yB9vNEzq8slDwpUBl5UWhm",
    "RCLbNOz5te9A83IbKRJsTR",
    "hEQmNI6MOoBEBQYnExGp2K",
    "m5bakJ18PgHb9SMNwRKkiu",
    "dq50A9krJH464ellM28HIb"
   ],
   "version":3
  }
 },
 "nbformat":4,
 "nbformat_minor":4
}