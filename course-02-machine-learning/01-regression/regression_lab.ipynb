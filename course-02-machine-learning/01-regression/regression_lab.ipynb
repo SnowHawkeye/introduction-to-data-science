{
 "cells": [
  {
   "cell_type": "markdown",
   "source": [
    "# Regression\n",
    "\n",
    "CREDIT: This practical was inspired from [this notebook on regression](https://www.kaggle.com/code/caesarmario/ww2-temperatures-w-linear-regression/notebook)."
   ],
   "attachments": {},
   "metadata": {
    "datalore": {
     "node_id": "GVo10nb36uDS9vJ9EhxcZ4",
     "type": "MD",
     "hide_input_from_viewers": false,
     "hide_output_from_viewers": false,
     "report_properties": {
      "rowId": "JoHk2C319pxhiBaGkNQMDg"
     }
    }
   }
  },
  {
   "cell_type": "markdown",
   "source": [
    "## Setup\n",
    "### Imports"
   ],
   "attachments": {},
   "metadata": {
    "datalore": {
     "node_id": "XRS0rFPXUlRgtEHlNxcpID",
     "type": "MD",
     "hide_input_from_viewers": false,
     "hide_output_from_viewers": false,
     "report_properties": {
      "rowId": "UcaZxTvte2AQBKxsfYBVTL"
     }
    }
   }
  },
  {
   "cell_type": "code",
   "source": [
    "import string\n",
    "\n",
    "import pandas as pd                                     # for dataset manipulation (DataFrames)\n",
    "import numpy as np                                      # allows some mathematical operations\n",
    "import matplotlib.pyplot as plt                         # library used to display graphs\n",
    "import seaborn as sns                                   # more convenient visualisation library for dataframes\n",
    "import time                                             # for execution time measurement\n",
    "from sklearn.model_selection import train_test_split, cross_val_score, ShuffleSplit, cross_val_predict\n",
    "from sklearn.linear_model import LinearRegression\n",
    "from sklearn import metrics"
   ],
   "execution_count": null,
   "outputs": [],
   "metadata": {
    "datalore": {
     "node_id": "TbLv57fkMm1TbExf2jVxHh",
     "type": "CODE",
     "hide_input_from_viewers": false,
     "hide_output_from_viewers": false,
     "report_properties": {
      "rowId": "PvEHx5cM4msrC9cCg1cW9N"
     }
    }
   }
  },
  {
   "cell_type": "markdown",
   "source": [
    "### Loading the dataset\n",
    "\n",
    "Today's dataset is the [Weather Conditions in World War Two](https://www.kaggle.com/datasets/smid80/weatherww2) dataset."
   ],
   "attachments": {},
   "metadata": {
    "datalore": {
     "node_id": "roC8fhRxYVMNP9BazhamMZ",
     "type": "MD",
     "hide_input_from_viewers": false,
     "hide_output_from_viewers": false,
     "report_properties": {
      "rowId": "88aGZKjbW2yebOUDzoYtf1"
     }
    }
   }
  },
  {
   "cell_type": "code",
   "source": [
    "df = pd.read_csv(\"Summary of Weather.csv\")"
   ],
   "execution_count": null,
   "outputs": [],
   "metadata": {
    "datalore": {
     "node_id": "LT7askPVkCQDzzBDo777dR",
     "type": "CODE",
     "hide_input_from_viewers": false,
     "hide_output_from_viewers": false,
     "report_properties": {
      "rowId": "fTZ8YWjegGDKILAMu1D44H"
     }
    }
   }
  },
  {
   "cell_type": "markdown",
   "source": [
    "## Observing the dataset"
   ],
   "attachments": {},
   "metadata": {
    "datalore": {
     "node_id": "VhvP6VsmxzButdDGtKctr5",
     "type": "MD",
     "hide_input_from_viewers": false,
     "hide_output_from_viewers": false,
     "report_properties": {
      "rowId": "HWQmszIy97KJ1RhraFUAj8"
     }
    }
   }
  },
  {
   "cell_type": "markdown",
   "source": [
    "Using what you have learned in the previous lessons, examine the dataset and see what you can learn about it. In the cells underneath, write any information that seems relevant to you. Focus in particular on the understanding of what the dataset and its columns contain.\n",
    "\n",
    "In today's practical, we will try to predict the value of `MaxTemp`. Which feature(s) seem more adapted to perform this task, and why?"
   ],
   "attachments": {},
   "metadata": {
    "datalore": {
     "node_id": "Br0fRmNF168hoevpFnJssQ",
     "type": "MD",
     "hide_input_from_viewers": false,
     "hide_output_from_viewers": false,
     "report_properties": {
      "rowId": "JuCjblwngnvBdfqezYhilA"
     }
    }
   }
  },
  {
   "cell_type": "code",
   "source": [
    "# Your code here"
   ],
   "execution_count": null,
   "outputs": [],
   "metadata": {
    "datalore": {
     "node_id": "QvgeExPUpAocDGVJLirA8E",
     "type": "CODE",
     "hide_input_from_viewers": false,
     "hide_output_from_viewers": false,
     "report_properties": {
      "rowId": "aBltzOrMTRxDSy0ZNPzYHb"
     }
    }
   }
  },
  {
   "cell_type": "markdown",
   "source": [
    "*[Your comments here]*"
   ],
   "attachments": {},
   "metadata": {
    "datalore": {
     "node_id": "rJjfWDEZ6bw2eZUNa4tiWF",
     "type": "MD",
     "hide_input_from_viewers": false,
     "hide_output_from_viewers": false,
     "report_properties": {
      "rowId": "WQafdfYaFmr4q44RPvLyJb"
     }
    }
   }
  },
  {
   "cell_type": "code",
   "source": [
    "df"
   ],
   "execution_count": null,
   "outputs": [],
   "metadata": {
    "datalore": {
     "node_id": "4ssSvpjyi2hyqKknZmwZsa",
     "type": "CODE",
     "hide_input_from_viewers": true,
     "hide_output_from_viewers": true
    }
   }
  },
  {
   "cell_type": "markdown",
   "source": [
    "## Preparing the data\n",
    "\n",
    "We will be performing regression on the `MaxTemp` feature, using the `MinTemp` feature only.\n",
    "In the following cell:\n",
    "1. Define the input (X) and output (y) of the regression.\n",
    "2. Using `scikit-learn`'s `train_test_split` function, separate X and y into training and test sets. Make it so that 80% of the data is used for training, and 20% for testing. \n",
    "3. Why do we typically want to maximise the data used for training?"
   ],
   "attachments": {},
   "metadata": {
    "datalore": {
     "node_id": "3cJmYRlPYUBx9XBuNGh7Mv",
     "type": "MD",
     "hide_input_from_viewers": true,
     "hide_output_from_viewers": true
    }
   }
  },
  {
   "cell_type": "markdown",
   "source": [
    "*[Your comments here]*"
   ],
   "metadata": {
    "collapsed": false
   }
  },
  {
   "cell_type": "code",
   "execution_count": null,
   "outputs": [],
   "source": [
    "# Your code here"
   ],
   "metadata": {
    "collapsed": false
   }
  },
  {
   "cell_type": "markdown",
   "source": [
    "## Performing regression\n",
    "\n",
    "1. Using the observations you made above, justify which regression model is best fit for this task.\n",
    "2. Using `scikit-learn`, train this regression model on the training set.\n",
    "3. Give the formula of the regression model.\n",
    "4. Display the regression model on a graph along with your test set. Comment on what you see."
   ],
   "attachments": {},
   "metadata": {
    "datalore": {
     "node_id": "GgKHlurWfw75UJmXSjSH1C",
     "type": "MD",
     "hide_input_from_viewers": true,
     "hide_output_from_viewers": true
    }
   }
  },
  {
   "cell_type": "markdown",
   "source": [
    "*[Your comments here]*"
   ],
   "metadata": {
    "collapsed": false
   }
  },
  {
   "cell_type": "code",
   "source": [
    "# Your code here"
   ],
   "execution_count": null,
   "outputs": [],
   "metadata": {
    "datalore": {
     "node_id": "Rw7yCfqZKVNNlRtLhNRnoJ",
     "type": "CODE",
     "hide_input_from_viewers": true,
     "hide_output_from_viewers": true
    }
   }
  },
  {
   "cell_type": "markdown",
   "source": [
    "## Evaluating the model\n",
    "\n",
    "Let us consider three metrics: MAE, MSE, RMSE. For each of these, answer the following questions:\n",
    "1. What does the acronym mean?\n",
    "2. What does the metric measure?\n",
    "3. What are the pros and cons compared to the other two metrics?\n",
    "4. Using their implementation in `scikit-learn`, measure the performance of your regression model.\n",
    "\n",
    "After measuring all three metrics, interpret your results."
   ],
   "attachments": {},
   "metadata": {
    "datalore": {
     "node_id": "DIpN4wpMfLu0UaBkeqO0WY",
     "type": "MD",
     "hide_input_from_viewers": true,
     "hide_output_from_viewers": true
    }
   }
  },
  {
   "cell_type": "markdown",
   "source": [
    "*[Your comments here]*"
   ],
   "metadata": {
    "collapsed": false
   }
  },
  {
   "cell_type": "code",
   "execution_count": 1,
   "outputs": [],
   "source": [
    "# Your code here"
   ],
   "metadata": {
    "collapsed": false,
    "ExecuteTime": {
     "end_time": "2023-09-25T16:59:08.417138Z",
     "start_time": "2023-09-25T16:59:08.410844Z"
    }
   }
  },
  {
   "cell_type": "markdown",
   "source": [
    "## Bonus questions\n",
    "1. Try training a model to predict the value of `MaxTemp` using more features. Evaluate this new model and compare the results. How are the metrics impacted? How do you interpret this?\n",
    "2. Try fitting a different regression model to the data. Observe and analyze the new results."
   ],
   "attachments": {},
   "metadata": {
    "datalore": {
     "node_id": "NqkZCjuLSpgjcsWVUkn79C",
     "type": "MD",
     "hide_input_from_viewers": true,
     "hide_output_from_viewers": true
    }
   }
  },
  {
   "cell_type": "markdown",
   "source": [
    "*[Your comments here]*"
   ],
   "metadata": {
    "collapsed": false
   }
  },
  {
   "cell_type": "code",
   "execution_count": null,
   "outputs": [],
   "source": [
    "# Your code here"
   ],
   "metadata": {
    "collapsed": false
   }
  }
 ],
 "metadata": {
  "kernelspec": {
   "name": "python3",
   "language": "python",
   "display_name": "Python 3 (ipykernel)"
  },
  "datalore": {
   "computation_mode": "JUPYTER",
   "package_manager": "pip",
   "base_environment": "default",
   "packages": [],
   "report_row_ids": [
    "JoHk2C319pxhiBaGkNQMDg",
    "UcaZxTvte2AQBKxsfYBVTL",
    "PvEHx5cM4msrC9cCg1cW9N",
    "88aGZKjbW2yebOUDzoYtf1",
    "fTZ8YWjegGDKILAMu1D44H",
    "HWQmszIy97KJ1RhraFUAj8",
    "JuCjblwngnvBdfqezYhilA",
    "aBltzOrMTRxDSy0ZNPzYHb",
    "WQafdfYaFmr4q44RPvLyJb",
    "HJbPfYQCr5TUK3CPEuiAKs",
    "b9jr8VKK89SanxajR65i20",
    "Xa86OEruzAcfgy1yLvogKb",
    "Ckq38I69B3KQnn3Jbyi3re",
    "EwsEGtNBOPdgD6K6wmAiiD",
    "0p61ATR4JOGt74Cgrd10Nj",
    "P9l3UkPXvxi6tPvYFZV6Lj",
    "T4GPV8l4bUkW9fiHtP1PqI",
    "lVKEpvgJSu6x8mEotFcbO9",
    "1e0m1jgvZl9f5gxqAVVPzV",
    "yB9vNEzq8slDwpUBl5UWhm",
    "RCLbNOz5te9A83IbKRJsTR",
    "hEQmNI6MOoBEBQYnExGp2K",
    "m5bakJ18PgHb9SMNwRKkiu",
    "dq50A9krJH464ellM28HIb"
   ],
   "version": 3
  }
 },
 "nbformat": 4,
 "nbformat_minor": 4
}
