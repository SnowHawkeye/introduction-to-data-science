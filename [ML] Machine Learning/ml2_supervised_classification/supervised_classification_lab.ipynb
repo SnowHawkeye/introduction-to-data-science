{
 "cells":[
  {
   "cell_type":"markdown",
   "source":[
    "# Supervised classification"
   ],
   "attachments":{
    
   },
   "metadata":{
    "datalore":{
     "node_id":"GVo10nb36uDS9vJ9EhxcZ4",
     "type":"MD",
     "hide_input_from_viewers":false,
     "hide_output_from_viewers":false,
     "report_properties":{
      "rowId":"JoHk2C319pxhiBaGkNQMDg"
     }
    }
   }
  },
  {
   "cell_type":"markdown",
   "source":[
    "## Setup\n",
    "### Imports"
   ],
   "attachments":{
    
   },
   "metadata":{
    "datalore":{
     "node_id":"XRS0rFPXUlRgtEHlNxcpID",
     "type":"MD",
     "hide_input_from_viewers":false,
     "hide_output_from_viewers":false,
     "report_properties":{
      "rowId":"UcaZxTvte2AQBKxsfYBVTL"
     }
    }
   }
  },
  {
   "cell_type":"code",
   "source":[
    "import pandas as pd                                     # for dataset manipulation (DataFrames)\n",
    "import numpy as np                                      # allows some mathematical operations\n",
    "import matplotlib.pyplot as plt                         # library used to display graphs\n",
    "import seaborn as sns                                   # more convenient visualisation library for dataframes\n",
    "import time                                             # for execution time measurement\n",
    "from sklearn.model_selection import train_test_split, cross_val_score, ShuffleSplit, cross_val_predict\n",
    "from sklearn.datasets import load_breast_cancer\n",
    "from sklearn import metrics"
   ],
   "execution_count":1,
   "outputs":[
    
   ],
   "metadata":{
    "datalore":{
     "node_id":"TbLv57fkMm1TbExf2jVxHh",
     "type":"CODE",
     "hide_input_from_viewers":false,
     "hide_output_from_viewers":false,
     "report_properties":{
      "rowId":"PvEHx5cM4msrC9cCg1cW9N"
     }
    }
   }
  },
  {
   "cell_type":"markdown",
   "source":[
    "### Loading the dataset\n",
    "\n",
    "Today's dataset is the [Breast cancer Wisconsin dataset](https:\/\/scikit-learn.org\/stable\/datasets\/toy_dataset.html#breast-cancer-wisconsin-diagnostic-dataset)."
   ],
   "attachments":{
    
   },
   "metadata":{
    "datalore":{
     "node_id":"roC8fhRxYVMNP9BazhamMZ",
     "type":"MD",
     "hide_input_from_viewers":false,
     "hide_output_from_viewers":false,
     "report_properties":{
      "rowId":"88aGZKjbW2yebOUDzoYtf1"
     }
    }
   }
  },
  {
   "cell_type":"code",
   "source":[
    "breast_cancer_dataset = load_breast_cancer()\n",
    "df = pd.DataFrame(np.c_[breast_cancer_dataset['data'], breast_cancer_dataset['target']],\n",
    "                  columns= np.append(breast_cancer_dataset['feature_names'], ['target']))"
   ],
   "execution_count":2,
   "outputs":[
    
   ],
   "metadata":{
    "datalore":{
     "node_id":"LT7askPVkCQDzzBDo777dR",
     "type":"CODE",
     "hide_input_from_viewers":false,
     "hide_output_from_viewers":false,
     "report_properties":{
      "rowId":"fTZ8YWjegGDKILAMu1D44H"
     }
    }
   }
  },
  {
   "cell_type":"markdown",
   "source":[
    "## Observing the dataset"
   ],
   "attachments":{
    
   },
   "metadata":{
    "datalore":{
     "node_id":"VhvP6VsmxzButdDGtKctr5",
     "type":"MD",
     "hide_input_from_viewers":false,
     "hide_output_from_viewers":false,
     "report_properties":{
      "rowId":"HWQmszIy97KJ1RhraFUAj8"
     }
    }
   }
  },
  {
   "cell_type":"markdown",
   "source":[
    "Using what you have learned in the previous lessons, examine the dataset and see what you can learn about it. In the cells underneath, write any information that seems relevant to you. Focus in particular on the understanding of what the dataset and its columns contain."
   ],
   "attachments":{
    
   },
   "metadata":{
    "datalore":{
     "node_id":"Br0fRmNF168hoevpFnJssQ",
     "type":"MD",
     "hide_input_from_viewers":false,
     "hide_output_from_viewers":false,
     "report_properties":{
      "rowId":"JuCjblwngnvBdfqezYhilA"
     }
    }
   }
  },
  {
   "cell_type":"code",
   "source":[
    "# Your code here"
   ],
   "execution_count":11,
   "outputs":[
    
   ],
   "metadata":{
    "datalore":{
     "node_id":"QvgeExPUpAocDGVJLirA8E",
     "type":"CODE",
     "hide_input_from_viewers":false,
     "hide_output_from_viewers":false,
     "report_properties":{
      "rowId":"aBltzOrMTRxDSy0ZNPzYHb"
     }
    }
   }
  },
  {
   "cell_type":"markdown",
   "source":[
    "*[Your comments here]*"
   ],
   "attachments":{
    
   },
   "metadata":{
    "datalore":{
     "node_id":"rJjfWDEZ6bw2eZUNa4tiWF",
     "type":"MD",
     "hide_input_from_viewers":false,
     "hide_output_from_viewers":false,
     "report_properties":{
      "rowId":"WQafdfYaFmr4q44RPvLyJb"
     }
    }
   }
  },
  {
   "cell_type":"markdown",
   "source":[
    "## Preparing the data\n",
    "\n",
    "1. Define the input (X) and output (y) of the regression.\n",
    "2. Using `scikit-learn`'s `train_test_split` function, separate X and y into training and test sets. Make it so that 80% of the data is used for training, and 20% for testing. "
   ],
   "attachments":{
    
   },
   "metadata":{
    "datalore":{
     "node_id":"3cJmYRlPYUBx9XBuNGh7Mv",
     "type":"MD",
     "hide_input_from_viewers":true,
     "hide_output_from_viewers":true
    }
   }
  },
  {
   "cell_type":"code",
   "source":[
    "# Your code here"
   ],
   "execution_count":13,
   "outputs":[
    
   ],
   "metadata":{
    "datalore":{
     "node_id":"Xj12QOo8a4Joxk8QkxwSqJ",
     "type":"CODE",
     "hide_input_from_viewers":true,
     "hide_output_from_viewers":true
    }
   }
  },
  {
   "cell_type":"markdown",
   "source":[
    "## Performing classification\n",
    "\n",
    "Consider the following algorithms: Logistic Regression, Linear Discriminant Analysis, Quadratic Discriminant Analysis (+ **bonus**: SVM). For each of these algorithms, answer the following questions:\n",
    "1. What kind of decision boundary is this algorithm able to learn?\n",
    "2. Find and import the sklearn implementation of the algorithm.\n",
    "3. Fit the model to your data.\n",
    "4. Create a `y_pred` variable containing the result of the prediction of the model on the test set.\n",
    "5. **[Bonus]** Using `sklearn`'s documentation and other sources you find relevant, explain the general principle of the algorithm."
   ],
   "attachments":{
    
   },
   "metadata":{
    "datalore":{
     "node_id":"GgKHlurWfw75UJmXSjSH1C",
     "type":"MD",
     "hide_input_from_viewers":true,
     "hide_output_from_viewers":true
    }
   }
  },
  {
   "cell_type":"markdown",
   "source":[
    "*[Your comments here]*"
   ],
   "attachments":{
    
   },
   "metadata":{
    "datalore":{
     "node_id":"sZfuVnR2icsvfVoaiOvgYF",
     "type":"MD",
     "hide_input_from_viewers":true,
     "hide_output_from_viewers":true
    }
   }
  },
  {
   "cell_type":"code",
   "source":[
    "# Your code here"
   ],
   "execution_count":14,
   "outputs":[
    
   ],
   "metadata":{
    "datalore":{
     "node_id":"wudI58fDxqyrXTWW2abaXs",
     "type":"CODE",
     "hide_input_from_viewers":true,
     "hide_output_from_viewers":true
    }
   }
  },
  {
   "cell_type":"markdown",
   "source":[
    "## Evaluating the model\n",
    "\n",
    "Answer the following questions for each of the models created above:\n",
    "\n",
    "1. Compute the accuracy of the model.\n",
    "2. Display the confusion matrix.\n",
    "3. Compute the precision, recall and f1-score.\n",
    "4. Comment on your results and compare with the other algorithms.\n",
    "5. **[Bonus]** In your own words, explain what cross-validation is. Compute the score of your algorithms again using cross-validation. What differences, if any, do you observe? How do you interpret them?"
   ],
   "attachments":{
    
   },
   "metadata":{
    "datalore":{
     "node_id":"DIpN4wpMfLu0UaBkeqO0WY",
     "type":"MD",
     "hide_input_from_viewers":true,
     "hide_output_from_viewers":true
    }
   }
  },
  {
   "cell_type":"code",
   "source":[
    
   ],
   "execution_count":null,
   "outputs":[
    
   ],
   "metadata":{
    "datalore":{
     "node_id":"MuzeSDIEVzvTCiWlo6ajqv",
     "type":"CODE",
     "hide_input_from_viewers":true,
     "hide_output_from_viewers":true
    }
   }
  },
  {
   "cell_type":"markdown",
   "source":[
    "## Bonus questions\n",
    "1. Do you think balancing the dataset would increase the algorithms' performance? Try using a balancing method on the dataset and check your hypothesis.\n",
    "2. Perform the same study on the dataset from the dimensionality reduction practical (handwritten 5's and 6's)"
   ],
   "attachments":{
    
   },
   "metadata":{
    "datalore":{
     "node_id":"NqkZCjuLSpgjcsWVUkn79C",
     "type":"MD",
     "hide_input_from_viewers":true,
     "hide_output_from_viewers":true
    }
   }
  },
  {
   "cell_type":"code",
   "source":[
    
   ],
   "execution_count":null,
   "outputs":[
    
   ],
   "metadata":{
    "datalore":{
     "node_id":"SS8S1elI91efwbD5klCMtE",
     "type":"CODE",
     "hide_input_from_viewers":true,
     "hide_output_from_viewers":true
    }
   }
  }
 ],
 "metadata":{
  "kernelspec":{
   "display_name":"Python",
   "language":"python",
   "name":"python"
  },
  "datalore":{
   "computation_mode":"JUPYTER",
   "package_manager":"pip",
   "base_environment":"default",
   "packages":[
    
   ],
   "report_row_ids":[
    "JoHk2C319pxhiBaGkNQMDg",
    "UcaZxTvte2AQBKxsfYBVTL",
    "PvEHx5cM4msrC9cCg1cW9N",
    "88aGZKjbW2yebOUDzoYtf1",
    "fTZ8YWjegGDKILAMu1D44H",
    "HWQmszIy97KJ1RhraFUAj8",
    "JuCjblwngnvBdfqezYhilA",
    "aBltzOrMTRxDSy0ZNPzYHb",
    "WQafdfYaFmr4q44RPvLyJb",
    "HJbPfYQCr5TUK3CPEuiAKs",
    "b9jr8VKK89SanxajR65i20",
    "Xa86OEruzAcfgy1yLvogKb",
    "Ckq38I69B3KQnn3Jbyi3re",
    "EwsEGtNBOPdgD6K6wmAiiD",
    "0p61ATR4JOGt74Cgrd10Nj",
    "P9l3UkPXvxi6tPvYFZV6Lj",
    "T4GPV8l4bUkW9fiHtP1PqI",
    "lVKEpvgJSu6x8mEotFcbO9",
    "1e0m1jgvZl9f5gxqAVVPzV",
    "yB9vNEzq8slDwpUBl5UWhm",
    "RCLbNOz5te9A83IbKRJsTR",
    "hEQmNI6MOoBEBQYnExGp2K",
    "m5bakJ18PgHb9SMNwRKkiu",
    "dq50A9krJH464ellM28HIb"
   ],
   "version":3
  }
 },
 "nbformat":4,
 "nbformat_minor":4
}